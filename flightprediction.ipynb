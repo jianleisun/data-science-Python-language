{
 "cells": [
  {
   "cell_type": "markdown",
   "metadata": {},
   "source": [
    "# What is the Best Airline for Flying to LA?"
   ]
  },
  {
   "cell_type": "code",
   "execution_count": 28,
   "metadata": {
    "collapsed": true
   },
   "outputs": [],
   "source": [
    "# Name: Jianlei (John) Sun\n",
    "# Date: January 12, 2017"
   ]
  },
  {
   "cell_type": "markdown",
   "metadata": {},
   "source": [
    "## Data Exploration"
   ]
  },
  {
   "cell_type": "code",
   "execution_count": 29,
   "metadata": {
    "collapsed": true
   },
   "outputs": [],
   "source": [
    "# dataset: from Houston to Los Angeles in 2011\n",
    "\n",
    "# Question:\n",
    "# 1. Which airline gives the lowest the cancelled rate, delayed rate?\n",
    "# 2. Which aireline gives the shortest flght time?\n",
    "# 3. When is the best time to take a flight such as weekday & month?\n",
    "# 4. How to predict delayed flight accurately?"
   ]
  },
  {
   "cell_type": "code",
   "execution_count": 30,
   "metadata": {
    "collapsed": true
   },
   "outputs": [],
   "source": [
    "import numpy as np\n",
    "import pandas as pd\n",
    "import matplotlib.pyplot as plt\n",
    "%matplotlib inline"
   ]
  },
  {
   "cell_type": "code",
   "execution_count": 31,
   "metadata": {
    "collapsed": true
   },
   "outputs": [],
   "source": [
    "df_pd = pd.read_csv('./flights.csv')\n",
    "df_pd.shape\n",
    "\n",
    "# destination is \"LAX\"\n",
    "df_pd = df_pd.loc[df_pd['dest'] == 'LAX']\n",
    "df_pd = df_pd.drop('dest', axis = 1)"
   ]
  },
  {
   "cell_type": "code",
   "execution_count": 32,
   "metadata": {
    "collapsed": false
   },
   "outputs": [],
   "source": [
    "# create date-related features\n",
    "df_pd['date'] = pd.to_datetime(df_pd.date,infer_datetime_format=True)\n",
    "df_pd['month'] = df_pd.date.dt.month\n",
    "df_pd['weekday'] = df_pd.date.dt.weekday+1\n",
    "df_pd['day'] = df_pd.date.dt.day"
   ]
  },
  {
   "cell_type": "code",
   "execution_count": 33,
   "metadata": {
    "collapsed": false,
    "scrolled": true
   },
   "outputs": [
    {
     "data": {
      "text/html": [
       "<div>\n",
       "<table border=\"1\" class=\"dataframe\">\n",
       "  <thead>\n",
       "    <tr style=\"text-align: right;\">\n",
       "      <th></th>\n",
       "      <th>date</th>\n",
       "      <th>hour</th>\n",
       "      <th>minute</th>\n",
       "      <th>dep</th>\n",
       "      <th>arr</th>\n",
       "      <th>dep_delay</th>\n",
       "      <th>arr_delay</th>\n",
       "      <th>carrier</th>\n",
       "      <th>flight</th>\n",
       "      <th>plane</th>\n",
       "      <th>cancelled</th>\n",
       "      <th>time</th>\n",
       "      <th>dist</th>\n",
       "      <th>month</th>\n",
       "      <th>weekday</th>\n",
       "      <th>day</th>\n",
       "    </tr>\n",
       "  </thead>\n",
       "  <tbody>\n",
       "    <tr>\n",
       "      <th>360</th>\n",
       "      <td>2011-01-31 12:00:00</td>\n",
       "      <td>19.0</td>\n",
       "      <td>16.0</td>\n",
       "      <td>1916.0</td>\n",
       "      <td>2103.0</td>\n",
       "      <td>6.0</td>\n",
       "      <td>2.0</td>\n",
       "      <td>CO</td>\n",
       "      <td>47</td>\n",
       "      <td>N76522</td>\n",
       "      <td>0</td>\n",
       "      <td>199.0</td>\n",
       "      <td>1379</td>\n",
       "      <td>1</td>\n",
       "      <td>1</td>\n",
       "      <td>31</td>\n",
       "    </tr>\n",
       "    <tr>\n",
       "      <th>361</th>\n",
       "      <td>2011-01-31 12:00:00</td>\n",
       "      <td>7.0</td>\n",
       "      <td>47.0</td>\n",
       "      <td>747.0</td>\n",
       "      <td>936.0</td>\n",
       "      <td>2.0</td>\n",
       "      <td>5.0</td>\n",
       "      <td>CO</td>\n",
       "      <td>52</td>\n",
       "      <td>N67134</td>\n",
       "      <td>0</td>\n",
       "      <td>201.0</td>\n",
       "      <td>1379</td>\n",
       "      <td>1</td>\n",
       "      <td>1</td>\n",
       "      <td>31</td>\n",
       "    </tr>\n",
       "  </tbody>\n",
       "</table>\n",
       "</div>"
      ],
      "text/plain": [
       "                   date  hour  minute     dep     arr  dep_delay  arr_delay  \\\n",
       "360 2011-01-31 12:00:00  19.0    16.0  1916.0  2103.0        6.0        2.0   \n",
       "361 2011-01-31 12:00:00   7.0    47.0   747.0   936.0        2.0        5.0   \n",
       "\n",
       "    carrier  flight   plane  cancelled   time  dist  month  weekday  day  \n",
       "360      CO      47  N76522          0  199.0  1379      1        1   31  \n",
       "361      CO      52  N67134          0  201.0  1379      1        1   31  "
      ]
     },
     "execution_count": 33,
     "metadata": {},
     "output_type": "execute_result"
    }
   ],
   "source": [
    "df_pd.head(2)"
   ]
  },
  {
   "cell_type": "code",
   "execution_count": 34,
   "metadata": {
    "collapsed": false,
    "scrolled": true
   },
   "outputs": [
    {
     "data": {
      "text/plain": [
       "<matplotlib.text.Text at 0x125616c88>"
      ]
     },
     "execution_count": 34,
     "metadata": {},
     "output_type": "execute_result"
    },
    {
     "data": {
      "image/png": "[encoded data removed]",
      "text/plain": [
       "<matplotlib.figure.Figure at 0x125618ef0>"
      ]
     },
     "metadata": {},
     "output_type": "display_data"
    }
   ],
   "source": [
    "# plot depature vs. arrival delay time\n",
    "\n",
    "fig = plt.figure(figsize=[6, 4])\n",
    "ax = fig.add_subplot(1,1,1) \n",
    "t = plt.scatter(x = df_pd.dep_delay, y = df_pd.arr_delay)\n",
    "ax.set_xlabel('Departure Delay, mins')\n",
    "ax.set_ylabel('Arrival Delay, mins')\n",
    "\n",
    "# Remark: we might just need either of them, e.g., \"dep_deplay\""
   ]
  },
  {
   "cell_type": "code",
   "execution_count": 35,
   "metadata": {
    "collapsed": false,
    "scrolled": true
   },
   "outputs": [
    {
     "data": {
      "text/plain": [
       "[<matplotlib.lines.Line2D at 0x11995ada0>]"
      ]
     },
     "execution_count": 35,
     "metadata": {},
     "output_type": "execute_result"
    },
    {
     "data": {
      "image/png": "[encoded data removed]",
      "text/plain": [
       "<matplotlib.figure.Figure at 0x119967160>"
      ]
     },
     "metadata": {},
     "output_type": "display_data"
    }
   ],
   "source": [
    "# plot depature delay vs. fly time\n",
    "\n",
    "from sklearn import linear_model\n",
    "\n",
    "fig = plt.figure(figsize=[6, 4])\n",
    "ax = fig.add_subplot(1,1,1) \n",
    "t = plt.scatter(x = df_pd.time, y = df_pd.arr_delay)\n",
    "ax.set_xlabel('Flight Time, mins')\n",
    "ax.set_ylabel('Arrival Delay, mins')\n",
    "\n",
    "# Plot linear regression line\n",
    "a = df_pd.dropna()\n",
    "regr = linear_model.LinearRegression()\n",
    "regr.fit(a.time.values.reshape(-1,1), a.arr_delay.values.reshape(-1,1))\n",
    "plt.plot(a.time.values.reshape(-1,1), regr.predict(a.time.values.reshape(-1,1)), color='red',linewidth=3)\n",
    "\n",
    "# Remark: the longer the flight time, the larger the arrival delay."
   ]
  },
  {
   "cell_type": "code",
   "execution_count": 36,
   "metadata": {
    "collapsed": false,
    "scrolled": true
   },
   "outputs": [
    {
     "data": {
      "text/html": [
       "<div>\n",
       "<table border=\"1\" class=\"dataframe\">\n",
       "  <thead>\n",
       "    <tr style=\"text-align: right;\">\n",
       "      <th></th>\n",
       "      <th>time</th>\n",
       "      <th>dep_delay</th>\n",
       "      <th>arr_delay</th>\n",
       "    </tr>\n",
       "    <tr>\n",
       "      <th>carrier</th>\n",
       "      <th></th>\n",
       "      <th></th>\n",
       "      <th></th>\n",
       "    </tr>\n",
       "  </thead>\n",
       "  <tbody>\n",
       "    <tr>\n",
       "      <th>CO</th>\n",
       "      <td>184.934947</td>\n",
       "      <td>12.113335</td>\n",
       "      <td>9.961749</td>\n",
       "    </tr>\n",
       "    <tr>\n",
       "      <th>MQ</th>\n",
       "      <td>182.000000</td>\n",
       "      <td>11.330402</td>\n",
       "      <td>4.239899</td>\n",
       "    </tr>\n",
       "    <tr>\n",
       "      <th>WN</th>\n",
       "      <td>192.081042</td>\n",
       "      <td>16.564435</td>\n",
       "      <td>6.095514</td>\n",
       "    </tr>\n",
       "  </tbody>\n",
       "</table>\n",
       "</div>"
      ],
      "text/plain": [
       "               time  dep_delay  arr_delay\n",
       "carrier                                  \n",
       "CO       184.934947  12.113335   9.961749\n",
       "MQ       182.000000  11.330402   4.239899\n",
       "WN       192.081042  16.564435   6.095514"
      ]
     },
     "execution_count": 36,
     "metadata": {},
     "output_type": "execute_result"
    }
   ],
   "source": [
    "# find the carrier with lowest flight time\n",
    "\n",
    "df_pd[['time','carrier', 'dep_delay', 'arr_delay']].groupby('carrier').mean()\n",
    "\n",
    "# Remarks: \n",
    "# the carrier \"MQ\" and CO show less flight time than \"WN\", e.g., around 10 minutes less;\n",
    "# \"WN\": Southwest Airlines; \"CO\": Continental Airlines; \"MQ\": Envoy Air"
   ]
  },
  {
   "cell_type": "code",
   "execution_count": 37,
   "metadata": {
    "collapsed": false,
    "scrolled": true
   },
   "outputs": [
    {
     "data": {
      "text/plain": [
       "<matplotlib.text.Text at 0x116b24b00>"
      ]
     },
     "execution_count": 37,
     "metadata": {},
     "output_type": "execute_result"
    },
    {
     "data": {
      "image/png": "[encoded data removed]",
      "text/plain": [
       "<matplotlib.figure.Figure at 0x11ce3af28>"
      ]
     },
     "metadata": {},
     "output_type": "display_data"
    }
   ],
   "source": [
    "# plot flight time vs. month\n",
    "\n",
    "a = df_pd[['time','carrier','month']].groupby(['month','carrier']).mean()\n",
    "\n",
    "CO = pd.DataFrame((a.values[a.index.labels[1]==0]).reshape(1,-1)[0], columns=['CO'], index=range(1,13))\n",
    "MQ_index = a.index.labels[0][a.index.labels[1]==1];\n",
    "MQ = pd.DataFrame((a.values[a.index.labels[1]==1]).reshape(1,-1)[0], columns=['MQ'], index=MQ_index+1)\n",
    "WN = pd.DataFrame((a.values[a.index.labels[1]==2]).reshape(1,-1)[0], columns=['WN'], index=range(1,13))\n",
    "df_t = pd.concat([CO, MQ, WN], join='outer', axis=1)\n",
    "\n",
    "fig = plt.figure(figsize=[6, 4])\n",
    "ax = fig.add_subplot(1,1,1)\n",
    "df_t.plot(kind='bar',ax=ax).legend(bbox_to_anchor=(1.2, 1))\n",
    "ax.set_xlabel('Month')\n",
    "ax.set_ylabel('Flight Time, mins')\n",
    "\n",
    "# Remarks: \n",
    "# the carrier \"MQ\" and \"CO\" shows less flight time than \"WN\";\n",
    "# July and Auguest show less flight time."
   ]
  },
  {
   "cell_type": "code",
   "execution_count": 38,
   "metadata": {
    "collapsed": false
   },
   "outputs": [
    {
     "data": {
      "text/plain": [
       "<matplotlib.text.Text at 0x1175ff400>"
      ]
     },
     "execution_count": 38,
     "metadata": {},
     "output_type": "execute_result"
    },
    {
     "data": {
      "image/png": "[encoded data removed]",
      "text/plain": [
       "<matplotlib.figure.Figure at 0x11ce135c0>"
      ]
     },
     "metadata": {},
     "output_type": "display_data"
    }
   ],
   "source": [
    "# plot flight time vs. weekday\n",
    "\n",
    "a = df_pd[['time','carrier','weekday']].groupby(['weekday','carrier']).mean()\n",
    "\n",
    "CO = pd.DataFrame((a.values[a.index.labels[1]==0]).reshape(1,-1)[0], columns=['CO'], index=range(1,8))\n",
    "MQ = pd.DataFrame((a.values[a.index.labels[1]==1]).reshape(1,-1)[0], columns=['MQ'], index=range(1,8))\n",
    "WN = pd.DataFrame((a.values[a.index.labels[1]==2]).reshape(1,-1)[0], columns=['WN'], index=range(1,8))\n",
    "df_t = pd.concat([CO, MQ, WN], join='outer', axis=1)\n",
    "\n",
    "fig = plt.figure(figsize=[6, 4])\n",
    "ax = fig.add_subplot(1,1,1)\n",
    "df_t.plot(kind='bar',ax=ax).legend(bbox_to_anchor=(1.2, 1))\n",
    "ax.set_xlabel('Weekday')\n",
    "ax.set_ylabel('Fly Time, mins')\n",
    "\n",
    "# Remarks: \n",
    "# Flight time might not be too senstitive to weekdays."
   ]
  },
  {
   "cell_type": "code",
   "execution_count": 39,
   "metadata": {
    "collapsed": false,
    "scrolled": true
   },
   "outputs": [
    {
     "data": {
      "text/html": [
       "<div>\n",
       "<table border=\"1\" class=\"dataframe\">\n",
       "  <thead>\n",
       "    <tr style=\"text-align: right;\">\n",
       "      <th></th>\n",
       "      <th></th>\n",
       "      <th></th>\n",
       "      <th>time</th>\n",
       "      <th>dep_delay</th>\n",
       "      <th>arr_delay</th>\n",
       "    </tr>\n",
       "    <tr>\n",
       "      <th>weekday</th>\n",
       "      <th>flight</th>\n",
       "      <th>carrier</th>\n",
       "      <th></th>\n",
       "      <th></th>\n",
       "      <th></th>\n",
       "    </tr>\n",
       "  </thead>\n",
       "  <tbody>\n",
       "    <tr>\n",
       "      <th>5</th>\n",
       "      <th>1267</th>\n",
       "      <th>CO</th>\n",
       "      <td>162.0</td>\n",
       "      <td>57.0</td>\n",
       "      <td>37.0</td>\n",
       "    </tr>\n",
       "    <tr>\n",
       "      <th>4</th>\n",
       "      <th>1599</th>\n",
       "      <th>CO</th>\n",
       "      <td>163.5</td>\n",
       "      <td>3.0</td>\n",
       "      <td>-10.0</td>\n",
       "    </tr>\n",
       "    <tr>\n",
       "      <th>5</th>\n",
       "      <th>1203</th>\n",
       "      <th>CO</th>\n",
       "      <td>163.5</td>\n",
       "      <td>10.0</td>\n",
       "      <td>-0.5</td>\n",
       "    </tr>\n",
       "    <tr>\n",
       "      <th>4</th>\n",
       "      <th>1599</th>\n",
       "      <th>CO</th>\n",
       "      <td>163.5</td>\n",
       "      <td>3.0</td>\n",
       "      <td>-10.0</td>\n",
       "    </tr>\n",
       "    <tr>\n",
       "      <th>5</th>\n",
       "      <th>1203</th>\n",
       "      <th>CO</th>\n",
       "      <td>163.5</td>\n",
       "      <td>10.0</td>\n",
       "      <td>-0.5</td>\n",
       "    </tr>\n",
       "    <tr>\n",
       "      <th rowspan=\"2\" valign=\"top\">1</th>\n",
       "      <th>1203</th>\n",
       "      <th>CO</th>\n",
       "      <td>164.0</td>\n",
       "      <td>2.0</td>\n",
       "      <td>10.0</td>\n",
       "    </tr>\n",
       "    <tr>\n",
       "      <th>1599</th>\n",
       "      <th>CO</th>\n",
       "      <td>164.0</td>\n",
       "      <td>21.0</td>\n",
       "      <td>4.0</td>\n",
       "    </tr>\n",
       "    <tr>\n",
       "      <th>3</th>\n",
       "      <th>1863</th>\n",
       "      <th>CO</th>\n",
       "      <td>164.0</td>\n",
       "      <td>43.0</td>\n",
       "      <td>65.0</td>\n",
       "    </tr>\n",
       "    <tr>\n",
       "      <th>4</th>\n",
       "      <th>1015</th>\n",
       "      <th>CO</th>\n",
       "      <td>164.0</td>\n",
       "      <td>41.5</td>\n",
       "      <td>23.5</td>\n",
       "    </tr>\n",
       "    <tr>\n",
       "      <th>6</th>\n",
       "      <th>1015</th>\n",
       "      <th>CO</th>\n",
       "      <td>164.0</td>\n",
       "      <td>7.0</td>\n",
       "      <td>-9.5</td>\n",
       "    </tr>\n",
       "    <tr>\n",
       "      <th rowspan=\"2\" valign=\"top\">1</th>\n",
       "      <th>1203</th>\n",
       "      <th>CO</th>\n",
       "      <td>164.0</td>\n",
       "      <td>2.0</td>\n",
       "      <td>10.0</td>\n",
       "    </tr>\n",
       "    <tr>\n",
       "      <th>1599</th>\n",
       "      <th>CO</th>\n",
       "      <td>164.0</td>\n",
       "      <td>21.0</td>\n",
       "      <td>4.0</td>\n",
       "    </tr>\n",
       "    <tr>\n",
       "      <th>3</th>\n",
       "      <th>1863</th>\n",
       "      <th>CO</th>\n",
       "      <td>164.0</td>\n",
       "      <td>43.0</td>\n",
       "      <td>65.0</td>\n",
       "    </tr>\n",
       "    <tr>\n",
       "      <th>4</th>\n",
       "      <th>1015</th>\n",
       "      <th>CO</th>\n",
       "      <td>164.0</td>\n",
       "      <td>41.5</td>\n",
       "      <td>23.5</td>\n",
       "    </tr>\n",
       "    <tr>\n",
       "      <th>6</th>\n",
       "      <th>1015</th>\n",
       "      <th>CO</th>\n",
       "      <td>164.0</td>\n",
       "      <td>7.0</td>\n",
       "      <td>-9.5</td>\n",
       "    </tr>\n",
       "    <tr>\n",
       "      <th rowspan=\"2\" valign=\"top\">1</th>\n",
       "      <th>1203</th>\n",
       "      <th>CO</th>\n",
       "      <td>164.0</td>\n",
       "      <td>2.0</td>\n",
       "      <td>10.0</td>\n",
       "    </tr>\n",
       "    <tr>\n",
       "      <th>1599</th>\n",
       "      <th>CO</th>\n",
       "      <td>164.0</td>\n",
       "      <td>21.0</td>\n",
       "      <td>4.0</td>\n",
       "    </tr>\n",
       "    <tr>\n",
       "      <th>3</th>\n",
       "      <th>1863</th>\n",
       "      <th>CO</th>\n",
       "      <td>164.0</td>\n",
       "      <td>43.0</td>\n",
       "      <td>65.0</td>\n",
       "    </tr>\n",
       "    <tr>\n",
       "      <th>4</th>\n",
       "      <th>1015</th>\n",
       "      <th>CO</th>\n",
       "      <td>164.0</td>\n",
       "      <td>41.5</td>\n",
       "      <td>23.5</td>\n",
       "    </tr>\n",
       "    <tr>\n",
       "      <th>6</th>\n",
       "      <th>1015</th>\n",
       "      <th>CO</th>\n",
       "      <td>164.0</td>\n",
       "      <td>7.0</td>\n",
       "      <td>-9.5</td>\n",
       "    </tr>\n",
       "    <tr>\n",
       "      <th rowspan=\"2\" valign=\"top\">1</th>\n",
       "      <th>1203</th>\n",
       "      <th>CO</th>\n",
       "      <td>164.0</td>\n",
       "      <td>2.0</td>\n",
       "      <td>10.0</td>\n",
       "    </tr>\n",
       "    <tr>\n",
       "      <th>1599</th>\n",
       "      <th>CO</th>\n",
       "      <td>164.0</td>\n",
       "      <td>21.0</td>\n",
       "      <td>4.0</td>\n",
       "    </tr>\n",
       "    <tr>\n",
       "      <th>3</th>\n",
       "      <th>1863</th>\n",
       "      <th>CO</th>\n",
       "      <td>164.0</td>\n",
       "      <td>43.0</td>\n",
       "      <td>65.0</td>\n",
       "    </tr>\n",
       "    <tr>\n",
       "      <th>4</th>\n",
       "      <th>1015</th>\n",
       "      <th>CO</th>\n",
       "      <td>164.0</td>\n",
       "      <td>41.5</td>\n",
       "      <td>23.5</td>\n",
       "    </tr>\n",
       "    <tr>\n",
       "      <th>6</th>\n",
       "      <th>1015</th>\n",
       "      <th>CO</th>\n",
       "      <td>164.0</td>\n",
       "      <td>7.0</td>\n",
       "      <td>-9.5</td>\n",
       "    </tr>\n",
       "    <tr>\n",
       "      <th rowspan=\"2\" valign=\"top\">1</th>\n",
       "      <th>1203</th>\n",
       "      <th>CO</th>\n",
       "      <td>164.0</td>\n",
       "      <td>2.0</td>\n",
       "      <td>10.0</td>\n",
       "    </tr>\n",
       "    <tr>\n",
       "      <th>1599</th>\n",
       "      <th>CO</th>\n",
       "      <td>164.0</td>\n",
       "      <td>21.0</td>\n",
       "      <td>4.0</td>\n",
       "    </tr>\n",
       "    <tr>\n",
       "      <th>3</th>\n",
       "      <th>1863</th>\n",
       "      <th>CO</th>\n",
       "      <td>164.0</td>\n",
       "      <td>43.0</td>\n",
       "      <td>65.0</td>\n",
       "    </tr>\n",
       "    <tr>\n",
       "      <th>4</th>\n",
       "      <th>1015</th>\n",
       "      <th>CO</th>\n",
       "      <td>164.0</td>\n",
       "      <td>41.5</td>\n",
       "      <td>23.5</td>\n",
       "    </tr>\n",
       "    <tr>\n",
       "      <th>6</th>\n",
       "      <th>1015</th>\n",
       "      <th>CO</th>\n",
       "      <td>164.0</td>\n",
       "      <td>7.0</td>\n",
       "      <td>-9.5</td>\n",
       "    </tr>\n",
       "    <tr>\n",
       "      <th rowspan=\"2\" valign=\"top\">5</th>\n",
       "      <th>1015</th>\n",
       "      <th>CO</th>\n",
       "      <td>164.5</td>\n",
       "      <td>10.0</td>\n",
       "      <td>-3.0</td>\n",
       "    </tr>\n",
       "    <tr>\n",
       "      <th>1227</th>\n",
       "      <th>CO</th>\n",
       "      <td>164.5</td>\n",
       "      <td>87.5</td>\n",
       "      <td>69.0</td>\n",
       "    </tr>\n",
       "    <tr>\n",
       "      <th>6</th>\n",
       "      <th>1533</th>\n",
       "      <th>CO</th>\n",
       "      <td>164.5</td>\n",
       "      <td>14.0</td>\n",
       "      <td>3.5</td>\n",
       "    </tr>\n",
       "    <tr>\n",
       "      <th>7</th>\n",
       "      <th>1267</th>\n",
       "      <th>CO</th>\n",
       "      <td>164.5</td>\n",
       "      <td>14.5</td>\n",
       "      <td>4.0</td>\n",
       "    </tr>\n",
       "    <tr>\n",
       "      <th rowspan=\"2\" valign=\"top\">5</th>\n",
       "      <th>1015</th>\n",
       "      <th>CO</th>\n",
       "      <td>164.5</td>\n",
       "      <td>10.0</td>\n",
       "      <td>-3.0</td>\n",
       "    </tr>\n",
       "    <tr>\n",
       "      <th>1227</th>\n",
       "      <th>CO</th>\n",
       "      <td>164.5</td>\n",
       "      <td>87.5</td>\n",
       "      <td>69.0</td>\n",
       "    </tr>\n",
       "    <tr>\n",
       "      <th>6</th>\n",
       "      <th>1533</th>\n",
       "      <th>CO</th>\n",
       "      <td>164.5</td>\n",
       "      <td>14.0</td>\n",
       "      <td>3.5</td>\n",
       "    </tr>\n",
       "    <tr>\n",
       "      <th>7</th>\n",
       "      <th>1267</th>\n",
       "      <th>CO</th>\n",
       "      <td>164.5</td>\n",
       "      <td>14.5</td>\n",
       "      <td>4.0</td>\n",
       "    </tr>\n",
       "  </tbody>\n",
       "</table>\n",
       "</div>"
      ],
      "text/plain": [
       "                         time  dep_delay  arr_delay\n",
       "weekday flight carrier                             \n",
       "5       1267   CO       162.0       57.0       37.0\n",
       "4       1599   CO       163.5        3.0      -10.0\n",
       "5       1203   CO       163.5       10.0       -0.5\n",
       "4       1599   CO       163.5        3.0      -10.0\n",
       "5       1203   CO       163.5       10.0       -0.5\n",
       "1       1203   CO       164.0        2.0       10.0\n",
       "        1599   CO       164.0       21.0        4.0\n",
       "3       1863   CO       164.0       43.0       65.0\n",
       "4       1015   CO       164.0       41.5       23.5\n",
       "6       1015   CO       164.0        7.0       -9.5\n",
       "1       1203   CO       164.0        2.0       10.0\n",
       "        1599   CO       164.0       21.0        4.0\n",
       "3       1863   CO       164.0       43.0       65.0\n",
       "4       1015   CO       164.0       41.5       23.5\n",
       "6       1015   CO       164.0        7.0       -9.5\n",
       "1       1203   CO       164.0        2.0       10.0\n",
       "        1599   CO       164.0       21.0        4.0\n",
       "3       1863   CO       164.0       43.0       65.0\n",
       "4       1015   CO       164.0       41.5       23.5\n",
       "6       1015   CO       164.0        7.0       -9.5\n",
       "1       1203   CO       164.0        2.0       10.0\n",
       "        1599   CO       164.0       21.0        4.0\n",
       "3       1863   CO       164.0       43.0       65.0\n",
       "4       1015   CO       164.0       41.5       23.5\n",
       "6       1015   CO       164.0        7.0       -9.5\n",
       "1       1203   CO       164.0        2.0       10.0\n",
       "        1599   CO       164.0       21.0        4.0\n",
       "3       1863   CO       164.0       43.0       65.0\n",
       "4       1015   CO       164.0       41.5       23.5\n",
       "6       1015   CO       164.0        7.0       -9.5\n",
       "5       1015   CO       164.5       10.0       -3.0\n",
       "        1227   CO       164.5       87.5       69.0\n",
       "6       1533   CO       164.5       14.0        3.5\n",
       "7       1267   CO       164.5       14.5        4.0\n",
       "5       1015   CO       164.5       10.0       -3.0\n",
       "        1227   CO       164.5       87.5       69.0\n",
       "6       1533   CO       164.5       14.0        3.5\n",
       "7       1267   CO       164.5       14.5        4.0"
      ]
     },
     "execution_count": 39,
     "metadata": {},
     "output_type": "execute_result"
    }
   ],
   "source": [
    "# find the weekday with lowest flight time\n",
    "\n",
    "df_pd[['time','flight', 'dep_delay', 'arr_delay','carrier', 'weekday']]\\\n",
    ".groupby(['weekday','flight','carrier']).mean().nsmallest(10,'time')\n",
    "\n",
    "# Remarks:\n",
    "# \"CO\" shows more choices of flight number and less flight time for most weekdays. \n",
    "# Thursday and Friday are faster."
   ]
  },
  {
   "cell_type": "code",
   "execution_count": 40,
   "metadata": {
    "collapsed": false,
    "scrolled": true
   },
   "outputs": [
    {
     "data": {
      "text/html": [
       "<div>\n",
       "<table border=\"1\" class=\"dataframe\">\n",
       "  <thead>\n",
       "    <tr style=\"text-align: right;\">\n",
       "      <th></th>\n",
       "      <th></th>\n",
       "      <th></th>\n",
       "      <th>time</th>\n",
       "      <th>dep_delay</th>\n",
       "      <th>arr_delay</th>\n",
       "    </tr>\n",
       "    <tr>\n",
       "      <th>month</th>\n",
       "      <th>flight</th>\n",
       "      <th>carrier</th>\n",
       "      <th></th>\n",
       "      <th></th>\n",
       "      <th></th>\n",
       "    </tr>\n",
       "  </thead>\n",
       "  <tbody>\n",
       "    <tr>\n",
       "      <th>8</th>\n",
       "      <th>1695</th>\n",
       "      <th>CO</th>\n",
       "      <td>159.500000</td>\n",
       "      <td>14.000000</td>\n",
       "      <td>-2.500000</td>\n",
       "    </tr>\n",
       "    <tr>\n",
       "      <th>7</th>\n",
       "      <th>1863</th>\n",
       "      <th>CO</th>\n",
       "      <td>164.000000</td>\n",
       "      <td>43.000000</td>\n",
       "      <td>65.000000</td>\n",
       "    </tr>\n",
       "    <tr>\n",
       "      <th>8</th>\n",
       "      <th>1533</th>\n",
       "      <th>CO</th>\n",
       "      <td>164.500000</td>\n",
       "      <td>14.000000</td>\n",
       "      <td>3.500000</td>\n",
       "    </tr>\n",
       "    <tr>\n",
       "      <th rowspan=\"2\" valign=\"top\">7</th>\n",
       "      <th>1898</th>\n",
       "      <th>CO</th>\n",
       "      <td>165.000000</td>\n",
       "      <td>53.000000</td>\n",
       "      <td>30.000000</td>\n",
       "    </tr>\n",
       "    <tr>\n",
       "      <th>1548</th>\n",
       "      <th>CO</th>\n",
       "      <td>165.600000</td>\n",
       "      <td>12.400000</td>\n",
       "      <td>2.200000</td>\n",
       "    </tr>\n",
       "    <tr>\n",
       "      <th>8</th>\n",
       "      <th>1203</th>\n",
       "      <th>CO</th>\n",
       "      <td>165.909091</td>\n",
       "      <td>29.545455</td>\n",
       "      <td>22.545455</td>\n",
       "    </tr>\n",
       "    <tr>\n",
       "      <th rowspan=\"2\" valign=\"top\">7</th>\n",
       "      <th>3719</th>\n",
       "      <th>MQ</th>\n",
       "      <td>166.064516</td>\n",
       "      <td>18.129032</td>\n",
       "      <td>2.032258</td>\n",
       "    </tr>\n",
       "    <tr>\n",
       "      <th>1460</th>\n",
       "      <th>CO</th>\n",
       "      <td>166.500000</td>\n",
       "      <td>22.000000</td>\n",
       "      <td>8.500000</td>\n",
       "    </tr>\n",
       "    <tr>\n",
       "      <th rowspan=\"2\" valign=\"top\">8</th>\n",
       "      <th>1015</th>\n",
       "      <th>CO</th>\n",
       "      <td>166.769231</td>\n",
       "      <td>18.846154</td>\n",
       "      <td>7.461538</td>\n",
       "    </tr>\n",
       "    <tr>\n",
       "      <th>1267</th>\n",
       "      <th>CO</th>\n",
       "      <td>166.846154</td>\n",
       "      <td>16.461538</td>\n",
       "      <td>8.692308</td>\n",
       "    </tr>\n",
       "  </tbody>\n",
       "</table>\n",
       "</div>"
      ],
      "text/plain": [
       "                            time  dep_delay  arr_delay\n",
       "month flight carrier                                  \n",
       "8     1695   CO       159.500000  14.000000  -2.500000\n",
       "7     1863   CO       164.000000  43.000000  65.000000\n",
       "8     1533   CO       164.500000  14.000000   3.500000\n",
       "7     1898   CO       165.000000  53.000000  30.000000\n",
       "      1548   CO       165.600000  12.400000   2.200000\n",
       "8     1203   CO       165.909091  29.545455  22.545455\n",
       "7     3719   MQ       166.064516  18.129032   2.032258\n",
       "      1460   CO       166.500000  22.000000   8.500000\n",
       "8     1015   CO       166.769231  18.846154   7.461538\n",
       "      1267   CO       166.846154  16.461538   8.692308"
      ]
     },
     "execution_count": 40,
     "metadata": {},
     "output_type": "execute_result"
    }
   ],
   "source": [
    "# find the weekday with lowest flight time\n",
    "\n",
    "df_pd[['time','flight', 'dep_delay', 'arr_delay','carrier', 'month']]\\\n",
    ".groupby(['month','flight','carrier']).mean().nsmallest(10,'time')\n",
    "\n",
    "# Remarks:\n",
    "# \"CO\" shows more choices of flight number and less flight time for July and August."
   ]
  },
  {
   "cell_type": "code",
   "execution_count": 41,
   "metadata": {
    "collapsed": false,
    "scrolled": false
   },
   "outputs": [
    {
     "name": "stdout",
     "output_type": "stream",
     "text": [
      "                 date\n",
      "carrier delayed      \n",
      "CO      0        3013\n",
      "        1         834\n",
      "MQ      0         635\n",
      "        1         161\n",
      "WN      0         988\n",
      "        1         401\n",
      "CO delayed rate: 0.21679 \n",
      "MQ delayed rate: 0.20226 \n",
      "WN delayed rate: 0.2887\n"
     ]
    }
   ],
   "source": [
    "# find the delayed rate for carriers\n",
    "\n",
    "aa = df_pd[['carrier','dep_delay','date']].dropna();\n",
    "aa['delayed'] = (aa.dep_delay.values > 15)*1\n",
    "\n",
    "a = aa[['carrier', 'delayed','date']].groupby(['carrier','delayed']).count()\n",
    "print(a)\n",
    "t = a.date.values[1:6:2]/(a.date.values[0:5:2] + a.date.values[1:6:2]);\n",
    "print('CO delayed rate:', round(t[0],5),'\\nMQ delayed rate:', round(t[1],5), '\\nWN delayed rate:',round(t[2],5))\n",
    "\n",
    "# Remarks: the delayed rates for \"CO\" and \"MQ\" are lower than the other one."
   ]
  },
  {
   "cell_type": "code",
   "execution_count": 42,
   "metadata": {
    "collapsed": false,
    "scrolled": false
   },
   "outputs": [
    {
     "name": "stdout",
     "output_type": "stream",
     "text": [
      "                   date\n",
      "carrier cancelled      \n",
      "CO      0          3847\n",
      "        1            11\n",
      "MQ      0           795\n",
      "        1            15\n",
      "WN      0          1389\n",
      "        1             7\n",
      "CO cancelled rate: 0.00285 \n",
      "MQ cancelled rate: 0.01852 \n",
      "WN cancelled rate: 0.00501\n"
     ]
    }
   ],
   "source": [
    "# find the cancelled rate for carriers\n",
    "\n",
    "a = df_pd[['carrier', 'cancelled','date']].groupby(['carrier','cancelled']).count()\n",
    "print(a)\n",
    "t = a.date.values[1:6:2]/(a.date.values[0:5:2] + a.date.values[1:6:2]);\n",
    "print('CO cancelled rate:', round(t[0],5),'\\nMQ cancelled rate:', round(t[1],5), '\\nWN cancelled rate:',round(t[2],5))\n",
    "\n",
    "# Remarks: \"CO\" show very low cancelled rate."
   ]
  },
  {
   "cell_type": "code",
   "execution_count": 43,
   "metadata": {
    "collapsed": false
   },
   "outputs": [
    {
     "data": {
      "text/html": [
       "<div>\n",
       "<table border=\"1\" class=\"dataframe\">\n",
       "  <thead>\n",
       "    <tr style=\"text-align: right;\">\n",
       "      <th></th>\n",
       "      <th></th>\n",
       "      <th>cancelled</th>\n",
       "    </tr>\n",
       "    <tr>\n",
       "      <th>carrier</th>\n",
       "      <th>flight</th>\n",
       "      <th></th>\n",
       "    </tr>\n",
       "  </thead>\n",
       "  <tbody>\n",
       "    <tr>\n",
       "      <th rowspan=\"9\" valign=\"top\">CO</th>\n",
       "      <th>47</th>\n",
       "      <td>1</td>\n",
       "    </tr>\n",
       "    <tr>\n",
       "      <th>52</th>\n",
       "      <td>1</td>\n",
       "    </tr>\n",
       "    <tr>\n",
       "      <th>137</th>\n",
       "      <td>2</td>\n",
       "    </tr>\n",
       "    <tr>\n",
       "      <th>1095</th>\n",
       "      <td>1</td>\n",
       "    </tr>\n",
       "    <tr>\n",
       "      <th>1495</th>\n",
       "      <td>1</td>\n",
       "    </tr>\n",
       "    <tr>\n",
       "      <th>1605</th>\n",
       "      <td>1</td>\n",
       "    </tr>\n",
       "    <tr>\n",
       "      <th>1695</th>\n",
       "      <td>1</td>\n",
       "    </tr>\n",
       "    <tr>\n",
       "      <th>1778</th>\n",
       "      <td>1</td>\n",
       "    </tr>\n",
       "    <tr>\n",
       "      <th>1795</th>\n",
       "      <td>2</td>\n",
       "    </tr>\n",
       "    <tr>\n",
       "      <th rowspan=\"3\" valign=\"top\">MQ</th>\n",
       "      <th>3719</th>\n",
       "      <td>5</td>\n",
       "    </tr>\n",
       "    <tr>\n",
       "      <th>3724</th>\n",
       "      <td>5</td>\n",
       "    </tr>\n",
       "    <tr>\n",
       "      <th>3762</th>\n",
       "      <td>5</td>\n",
       "    </tr>\n",
       "    <tr>\n",
       "      <th rowspan=\"5\" valign=\"top\">WN</th>\n",
       "      <th>113</th>\n",
       "      <td>2</td>\n",
       "    </tr>\n",
       "    <tr>\n",
       "      <th>197</th>\n",
       "      <td>1</td>\n",
       "    </tr>\n",
       "    <tr>\n",
       "      <th>201</th>\n",
       "      <td>1</td>\n",
       "    </tr>\n",
       "    <tr>\n",
       "      <th>1708</th>\n",
       "      <td>2</td>\n",
       "    </tr>\n",
       "    <tr>\n",
       "      <th>2771</th>\n",
       "      <td>1</td>\n",
       "    </tr>\n",
       "  </tbody>\n",
       "</table>\n",
       "</div>"
      ],
      "text/plain": [
       "                cancelled\n",
       "carrier flight           \n",
       "CO      47              1\n",
       "        52              1\n",
       "        137             2\n",
       "        1095            1\n",
       "        1495            1\n",
       "        1605            1\n",
       "        1695            1\n",
       "        1778            1\n",
       "        1795            2\n",
       "MQ      3719            5\n",
       "        3724            5\n",
       "        3762            5\n",
       "WN      113             2\n",
       "        197             1\n",
       "        201             1\n",
       "        1708            2\n",
       "        2771            1"
      ]
     },
     "execution_count": 43,
     "metadata": {},
     "output_type": "execute_result"
    }
   ],
   "source": [
    "# find all cancelled flight for each carrier\n",
    "\n",
    "a = df_pd[df_pd['cancelled'] == 1][['carrier','flight','cancelled']]\n",
    "a.groupby(['carrier','flight']).count()\n",
    "\n",
    "# Remarks: it is not common to see canceled flights in \"CO\"."
   ]
  },
  {
   "cell_type": "markdown",
   "metadata": {
    "collapsed": true
   },
   "source": [
    "# Modeling"
   ]
  },
  {
   "cell_type": "code",
   "execution_count": 44,
   "metadata": {
    "collapsed": true
   },
   "outputs": [],
   "source": [
    "# Question: how to predict delayed flight accurately?"
   ]
  },
  {
   "cell_type": "code",
   "execution_count": 45,
   "metadata": {
    "collapsed": false
   },
   "outputs": [],
   "source": [
    "# drop NA values\n",
    "df_pd_n = df_pd.dropna();\n",
    "\n",
    "# split delay time to hours/minutes\n",
    "df_pd_n = df_pd_n.assign(hour_arr = lambda x: x.arr%10)\n",
    "df_pd_n = df_pd_n.assign(min_arr = lambda x: (x.arr-x.hour_arr)/100)\n",
    "\n",
    "# drop unnecessary features\n",
    "df_pd_n = df_pd_n.drop(['arr','dep','cancelled', 'date'], axis = 1)\n",
    "\n",
    "# one-hot-encoding categorical features\n",
    "for f in ['month','weekday','flight', 'day']:\n",
    "    df_pd_n[f] = df_pd_n[f].astype('category').cat.codes\n",
    "    \n",
    "cols = ['carrier', 'flight', 'plane', 'month', 'weekday', 'day']\n",
    "for f in cols:\n",
    "    data_dummies = pd.get_dummies(df_pd_n[f], prefix=f)\n",
    "    df_pd_n = pd.concat((df_pd_n, data_dummies), axis=1)\n",
    "    df_pd_n = df_pd_n.drop([f], axis=1)"
   ]
  },
  {
   "cell_type": "code",
   "execution_count": 46,
   "metadata": {
    "collapsed": false
   },
   "outputs": [],
   "source": [
    "# create labels based on departure/arrival delayed time\n",
    "df_pd_n['label_delayed'] = ((df_pd_n.dep_delay + df_pd_n.arr_delay)/2 > 15) * 1\n",
    "\n",
    "df_pd_n = df_pd_n.drop(['dep_delay','arr_delay'], axis=1)"
   ]
  },
  {
   "cell_type": "code",
   "execution_count": 47,
   "metadata": {
    "collapsed": false,
    "scrolled": true
   },
   "outputs": [
    {
     "data": {
      "text/html": [
       "<div>\n",
       "<table border=\"1\" class=\"dataframe\">\n",
       "  <thead>\n",
       "    <tr style=\"text-align: right;\">\n",
       "      <th></th>\n",
       "      <th>hour</th>\n",
       "      <th>minute</th>\n",
       "      <th>time</th>\n",
       "      <th>dist</th>\n",
       "      <th>hour_arr</th>\n",
       "      <th>min_arr</th>\n",
       "      <th>carrier_CO</th>\n",
       "      <th>carrier_MQ</th>\n",
       "      <th>carrier_WN</th>\n",
       "      <th>flight_0</th>\n",
       "      <th>...</th>\n",
       "      <th>day_22</th>\n",
       "      <th>day_23</th>\n",
       "      <th>day_24</th>\n",
       "      <th>day_25</th>\n",
       "      <th>day_26</th>\n",
       "      <th>day_27</th>\n",
       "      <th>day_28</th>\n",
       "      <th>day_29</th>\n",
       "      <th>day_30</th>\n",
       "      <th>label_delayed</th>\n",
       "    </tr>\n",
       "  </thead>\n",
       "  <tbody>\n",
       "    <tr>\n",
       "      <th>360</th>\n",
       "      <td>19.0</td>\n",
       "      <td>16.0</td>\n",
       "      <td>199.0</td>\n",
       "      <td>1379</td>\n",
       "      <td>3.0</td>\n",
       "      <td>21.0</td>\n",
       "      <td>1</td>\n",
       "      <td>0</td>\n",
       "      <td>0</td>\n",
       "      <td>0</td>\n",
       "      <td>...</td>\n",
       "      <td>0</td>\n",
       "      <td>0</td>\n",
       "      <td>0</td>\n",
       "      <td>0</td>\n",
       "      <td>0</td>\n",
       "      <td>0</td>\n",
       "      <td>0</td>\n",
       "      <td>0</td>\n",
       "      <td>1</td>\n",
       "      <td>0</td>\n",
       "    </tr>\n",
       "    <tr>\n",
       "      <th>361</th>\n",
       "      <td>7.0</td>\n",
       "      <td>47.0</td>\n",
       "      <td>201.0</td>\n",
       "      <td>1379</td>\n",
       "      <td>6.0</td>\n",
       "      <td>9.3</td>\n",
       "      <td>1</td>\n",
       "      <td>0</td>\n",
       "      <td>0</td>\n",
       "      <td>0</td>\n",
       "      <td>...</td>\n",
       "      <td>0</td>\n",
       "      <td>0</td>\n",
       "      <td>0</td>\n",
       "      <td>0</td>\n",
       "      <td>0</td>\n",
       "      <td>0</td>\n",
       "      <td>0</td>\n",
       "      <td>0</td>\n",
       "      <td>1</td>\n",
       "      <td>0</td>\n",
       "    </tr>\n",
       "  </tbody>\n",
       "</table>\n",
       "<p>2 rows × 995 columns</p>\n",
       "</div>"
      ],
      "text/plain": [
       "     hour  minute   time  dist  hour_arr  min_arr  carrier_CO  carrier_MQ  \\\n",
       "360  19.0    16.0  199.0  1379       3.0     21.0           1           0   \n",
       "361   7.0    47.0  201.0  1379       6.0      9.3           1           0   \n",
       "\n",
       "     carrier_WN  flight_0      ...        day_22  day_23  day_24  day_25  \\\n",
       "360           0         0      ...             0       0       0       0   \n",
       "361           0         0      ...             0       0       0       0   \n",
       "\n",
       "     day_26  day_27  day_28  day_29  day_30  label_delayed  \n",
       "360       0       0       0       0       1              0  \n",
       "361       0       0       0       0       1              0  \n",
       "\n",
       "[2 rows x 995 columns]"
      ]
     },
     "execution_count": 47,
     "metadata": {},
     "output_type": "execute_result"
    }
   ],
   "source": [
    "df_pd_n.head(2)"
   ]
  },
  {
   "cell_type": "code",
   "execution_count": 48,
   "metadata": {
    "collapsed": false
   },
   "outputs": [],
   "source": [
    "from sklearn.model_selection import train_test_split\n",
    "\n",
    "np.random.seed(2016)\n",
    "Y = df_pd_n['label_delayed']\n",
    "X = df_pd_n.drop(['label_delayed'], axis = 1)\n",
    "x_train, x_val, y_train, y_val = train_test_split(X, Y, test_size = 0.2)"
   ]
  },
  {
   "cell_type": "code",
   "execution_count": 49,
   "metadata": {
    "collapsed": false
   },
   "outputs": [],
   "source": [
    "from sklearn.ensemble import RandomForestClassifier\n",
    "from sklearn import grid_search\n",
    "\n",
    "def search_model(x_train, y_train, est, param_grid, n_jobs, cv, refit=False):\n",
    "\n",
    "    model = grid_search.GridSearchCV(estimator  = est,\n",
    "                                     param_grid = param_grid,\n",
    "                                     scoring    = 'f1',\n",
    "                                     verbose    = 10,\n",
    "                                     n_jobs  = n_jobs,\n",
    "                                     iid    = True,\n",
    "                                     refit    = refit,\n",
    "                                     cv      = cv)\n",
    "    # Fit Grid Search Model\n",
    "    model.fit(x_train, y_train)\n",
    "    print(\"Best score: %0.3f\" % model.best_score_)\n",
    "    print(\"Best parameters set:\", model.best_params_)\n",
    "    print(\"Scores:\", model.grid_scores_)    \n",
    "    return model"
   ]
  },
  {
   "cell_type": "code",
   "execution_count": 50,
   "metadata": {
    "collapsed": false
   },
   "outputs": [
    {
     "name": "stdout",
     "output_type": "stream",
     "text": [
      "Fitting 5 folds for each of 8 candidates, totalling 40 fits\n",
      "[CV] criterion=gini, n_estimators=11 .................................\n",
      "[CV] criterion=gini, n_estimators=11 .................................\n",
      "[CV] criterion=gini, n_estimators=11 .................................\n",
      "[CV] criterion=gini, n_estimators=11 .................................\n",
      "[CV] criterion=gini, n_estimators=11 .................................\n",
      "[CV] criterion=gini, n_estimators=21 .................................\n",
      "[CV] criterion=gini, n_estimators=21 .................................\n",
      "[CV] ........ criterion=gini, n_estimators=11, score=0.460000 -   0.5s\n",
      "[CV] criterion=gini, n_estimators=21 .................................\n",
      "[CV] criterion=gini, n_estimators=21 .................................\n",
      "[CV] ........ criterion=gini, n_estimators=11, score=0.487342 -   0.6s\n",
      "[CV] criterion=gini, n_estimators=21 .................................\n",
      "[CV] ........ criterion=gini, n_estimators=11, score=0.392027 -   0.6s\n",
      "[CV] criterion=gini, n_estimators=41 .................................\n",
      "[CV] ........ criterion=gini, n_estimators=11, score=0.350168 -   0.7s\n"
     ]
    },
    {
     "name": "stderr",
     "output_type": "stream",
     "text": [
      "[Parallel(n_jobs=-1)]: Done   2 tasks      | elapsed:    0.8s\n"
     ]
    },
    {
     "name": "stdout",
     "output_type": "stream",
     "text": [
      "[CV] criterion=gini, n_estimators=41 .................................\n",
      "[CV] ........ criterion=gini, n_estimators=11, score=0.419355 -   0.7s\n",
      "[CV] criterion=gini, n_estimators=41 .................................\n",
      "[CV] ........ criterion=gini, n_estimators=21, score=0.438356 -   1.2s\n",
      "[CV] criterion=gini, n_estimators=41 .................................\n",
      "[CV] ........ criterion=gini, n_estimators=21, score=0.537975 -   1.2s\n",
      "[CV] criterion=gini, n_estimators=41 .................................\n",
      "[CV] ........ criterion=gini, n_estimators=21, score=0.378571 -   1.3s\n",
      "[CV] criterion=gini, n_estimators=101 ................................\n",
      "[CV] ........ criterion=gini, n_estimators=21, score=0.364912 -   1.2s\n",
      "[CV] criterion=gini, n_estimators=101 ................................\n",
      "[CV] ........ criterion=gini, n_estimators=21, score=0.429530 -   1.3s\n"
     ]
    },
    {
     "name": "stderr",
     "output_type": "stream",
     "text": [
      "[Parallel(n_jobs=-1)]: Done   9 tasks      | elapsed:    2.0s\n"
     ]
    },
    {
     "name": "stdout",
     "output_type": "stream",
     "text": [
      "[CV] criterion=gini, n_estimators=101 ................................\n",
      "[CV] ........ criterion=gini, n_estimators=41, score=0.446735 -   2.1s\n",
      "[CV] ........ criterion=gini, n_estimators=41, score=0.526646 -   2.0s\n",
      "[CV] criterion=gini, n_estimators=101 ................................\n",
      "[CV] criterion=gini, n_estimators=101 ................................\n",
      "[CV] ........ criterion=gini, n_estimators=41, score=0.407143 -   2.1s\n",
      "[CV] criterion=entropy, n_estimators=11 ..............................\n",
      "[CV] ........ criterion=gini, n_estimators=41, score=0.397213 -   2.1s\n",
      "[CV] ........ criterion=gini, n_estimators=41, score=0.416667 -   2.0s\n",
      "[CV] criterion=entropy, n_estimators=11 ..............................\n",
      "[CV] criterion=entropy, n_estimators=11 ..............................\n",
      "[CV] ..... criterion=entropy, n_estimators=11, score=0.448052 -   0.7s\n",
      "[CV] criterion=entropy, n_estimators=11 ..............................\n"
     ]
    },
    {
     "name": "stderr",
     "output_type": "stream",
     "text": [
      "[Parallel(n_jobs=-1)]: Done  16 tasks      | elapsed:    4.1s\n"
     ]
    },
    {
     "name": "stdout",
     "output_type": "stream",
     "text": [
      "[CV] ..... criterion=entropy, n_estimators=11, score=0.528662 -   0.8s\n",
      "[CV] criterion=entropy, n_estimators=11 ..............................\n",
      "[CV] ..... criterion=entropy, n_estimators=11, score=0.419672 -   0.8s\n",
      "[CV] criterion=entropy, n_estimators=21 ..............................\n",
      "[CV] ..... criterion=entropy, n_estimators=11, score=0.467290 -   0.7s\n",
      "[CV] criterion=entropy, n_estimators=21 ..............................\n",
      "[CV] ..... criterion=entropy, n_estimators=11, score=0.427632 -   0.7s\n",
      "[CV] criterion=entropy, n_estimators=21 ..............................\n",
      "[CV] ..... criterion=entropy, n_estimators=21, score=0.423208 -   1.1s\n",
      "[CV] criterion=entropy, n_estimators=21 ..............................\n",
      "[CV] ..... criterion=entropy, n_estimators=21, score=0.428571 -   1.1s\n",
      "[CV] criterion=entropy, n_estimators=21 ..............................\n",
      "[CV] ..... criterion=entropy, n_estimators=21, score=0.454849 -   1.2s\n",
      "[CV] criterion=entropy, n_estimators=41 ..............................\n",
      "[CV] ....... criterion=gini, n_estimators=101, score=0.455172 -   4.8s\n",
      "[CV] criterion=entropy, n_estimators=41 ..............................\n",
      "[CV] ....... criterion=gini, n_estimators=101, score=0.480000 -   5.0s\n",
      "[CV] criterion=entropy, n_estimators=41 ..............................\n",
      "[CV] ....... criterion=gini, n_estimators=101, score=0.376812 -   4.9s\n",
      "[CV] criterion=entropy, n_estimators=41 ..............................\n"
     ]
    },
    {
     "name": "stderr",
     "output_type": "stream",
     "text": [
      "[Parallel(n_jobs=-1)]: Done  25 tasks      | elapsed:    7.0s\n"
     ]
    },
    {
     "name": "stdout",
     "output_type": "stream",
     "text": [
      "[CV] ..... criterion=entropy, n_estimators=21, score=0.465574 -   1.3s\n",
      "[CV] ..... criterion=entropy, n_estimators=21, score=0.382979 -   1.3s\n",
      "[CV] criterion=entropy, n_estimators=41 ..............................\n",
      "[CV] criterion=entropy, n_estimators=101 .............................\n",
      "[CV] ....... criterion=gini, n_estimators=101, score=0.415225 -   5.0s\n",
      "[CV] criterion=entropy, n_estimators=101 .............................\n",
      "[CV] ....... criterion=gini, n_estimators=101, score=0.379562 -   5.1s\n",
      "[CV] criterion=entropy, n_estimators=101 .............................\n"
     ]
    },
    {
     "name": "stderr",
     "output_type": "stream",
     "text": [
      "[Parallel(n_jobs=-1)]: Done  30 out of  40 | elapsed:    8.2s remaining:    2.7s\n"
     ]
    },
    {
     "name": "stdout",
     "output_type": "stream",
     "text": [
      "[CV] ..... criterion=entropy, n_estimators=41, score=0.483221 -   2.0s\n",
      "[CV] criterion=entropy, n_estimators=101 .............................\n",
      "[CV] ..... criterion=entropy, n_estimators=41, score=0.483221 -   2.2s\n",
      "[CV] criterion=entropy, n_estimators=101 .............................\n",
      "[CV] ..... criterion=entropy, n_estimators=41, score=0.495114 -   2.0s\n",
      "[CV] ..... criterion=entropy, n_estimators=41, score=0.392857 -   2.0s\n",
      "[CV] ..... criterion=entropy, n_estimators=41, score=0.388489 -   1.9s\n"
     ]
    },
    {
     "name": "stderr",
     "output_type": "stream",
     "text": [
      "[Parallel(n_jobs=-1)]: Done  35 out of  40 | elapsed:    9.3s remaining:    1.3s\n"
     ]
    },
    {
     "name": "stdout",
     "output_type": "stream",
     "text": [
      "[CV] .... criterion=entropy, n_estimators=101, score=0.464164 -   3.5s\n",
      "[CV] .... criterion=entropy, n_estimators=101, score=0.518033 -   3.3s\n",
      "[CV] .... criterion=entropy, n_estimators=101, score=0.410072 -   3.2s\n",
      "[CV] .... criterion=entropy, n_estimators=101, score=0.426117 -   2.7s\n",
      "[CV] .... criterion=entropy, n_estimators=101, score=0.385185 -   2.7s\n",
      "Best score: 0.458\n",
      "Best parameters set: {'n_estimators': 11, 'criterion': 'entropy'}\n",
      "Scores: [mean: 0.42179, std: 0.04854, params: {'n_estimators': 11, 'criterion': 'gini'}, mean: 0.42988, std: 0.06101, params: {'n_estimators': 21, 'criterion': 'gini'}, mean: 0.43889, std: 0.04691, params: {'n_estimators': 41, 'criterion': 'gini'}, mean: 0.42136, std: 0.04087, params: {'n_estimators': 101, 'criterion': 'gini'}, mean: 0.45827, std: 0.03891, params: {'n_estimators': 11, 'criterion': 'entropy'}, mean: 0.43104, std: 0.02876, params: {'n_estimators': 21, 'criterion': 'entropy'}, mean: 0.44858, std: 0.04750, params: {'n_estimators': 41, 'criterion': 'entropy'}, mean: 0.44073, std: 0.04640, params: {'n_estimators': 101, 'criterion': 'entropy'}]\n"
     ]
    },
    {
     "name": "stderr",
     "output_type": "stream",
     "text": [
      "[Parallel(n_jobs=-1)]: Done  40 out of  40 | elapsed:   11.8s remaining:    0.0s\n",
      "[Parallel(n_jobs=-1)]: Done  40 out of  40 | elapsed:   11.8s finished\n"
     ]
    }
   ],
   "source": [
    "np.random.seed(2016)\n",
    "param_grid = {'n_estimators':[11, 21, 41, 101], 'criterion':['gini','entropy']}\n",
    "\n",
    "RF = search_model(x_train.values\n",
    "            , y_train.values\n",
    "            , RandomForestClassifier()\n",
    "            , param_grid\n",
    "            , -1\n",
    "            , 5)"
   ]
  },
  {
   "cell_type": "code",
   "execution_count": 51,
   "metadata": {
    "collapsed": false
   },
   "outputs": [
    {
     "name": "stdout",
     "output_type": "stream",
     "text": [
      "             precision    recall  f1-score   support\n",
      "\n",
      "          0       0.84      0.96      0.90       944\n",
      "          1       0.70      0.35      0.47       260\n",
      "\n",
      "avg / total       0.81      0.83      0.81      1204\n",
      "\n"
     ]
    }
   ],
   "source": [
    "# evaluate the model with the validaiton dataset\n",
    "from sklearn import metrics\n",
    "\n",
    "RF = RandomForestClassifier(n_estimators=11, criterion='entropy')\n",
    "RF = RF.fit(x_train, y_train)\n",
    "y_pred = RF.predict(x_val)\n",
    "\n",
    "print (metrics.classification_report(y_val, y_pred))"
   ]
  },
  {
   "cell_type": "markdown",
   "metadata": {
    "collapsed": true
   },
   "source": [
    "# Conclusions"
   ]
  },
  {
   "cell_type": "code",
   "execution_count": 52,
   "metadata": {
    "collapsed": true
   },
   "outputs": [],
   "source": [
    "# The best aireline is Continental Airlines (CO):\n",
    "# 1) Lowest flight time for most of weekdays, for July and August;\n",
    "# 2) Large number of flight choices with relatively low cancelllation rate and delay rate\n",
    "# 3) A binary RandomForestClassifier is trained and validated to predict flight delay."
   ]
  }
 ],
 "metadata": {
  "anaconda-cloud": {},
  "kernelspec": {
   "display_name": "Python [default]",
   "language": "python",
   "name": "python3"
  },
  "language_info": {
   "codemirror_mode": {
    "name": "ipython",
    "version": 3
   },
   "file_extension": ".py",
   "mimetype": "text/x-python",
   "name": "python",
   "nbconvert_exporter": "python",
   "pygments_lexer": "ipython3",
   "version": "3.5.2"
  }
 },
 "nbformat": 4,
 "nbformat_minor": 1
}
